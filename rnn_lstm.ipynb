{
 "cells": [
  {
   "cell_type": "markdown",
   "metadata": {},
   "source": [
    "## How to use LSTM with tensorflow\n",
    "\n"
   ]
  },
  {
   "cell_type": "code",
   "execution_count": 18,
   "metadata": {},
   "outputs": [
    {
     "name": "stdout",
     "output_type": "stream",
     "text": [
      "1.4.0\n"
     ]
    }
   ],
   "source": [
    "import tensorflow as tf\n",
    "import numpy as np\n",
    "import os\n",
    "import sys\n",
    "# silent warning messages\n",
    "os.environ['TF_CPP_MIN_LOG_LEVEL']='2'\n",
    "\n",
    "print(tf.__version__)"
   ]
  },
  {
   "cell_type": "markdown",
   "metadata": {},
   "source": [
    "## 1. Single layer, forward only LSTM"
   ]
  },
  {
   "cell_type": "markdown",
   "metadata": {},
   "source": [
    "### Define some variables\n",
    "1. batch_size: means how many batches we have. We feed data as batches to the model for training, one batch at a time.\n",
    "2. max_time_step: how many times the RNN will unfold within a cell. What does \"max\" mean here? \n",
    "   Supposedly we have two batches of input data, however the 1st batch has 10 valid (none-zero) data points while second only\n",
    "   has 6 valid data points, then the max_time_step=10, which is the maximum length of our input data\n",
    "3. feature_size: number of features for each time step. \n",
    "4. cell_num_units: the size of cell's hidden states. sometime it is also called output.\n"
   ]
  },
  {
   "cell_type": "code",
   "execution_count": 19,
   "metadata": {},
   "outputs": [],
   "source": [
    "batch_size = 2\n",
    "max_time_steps = 3\n",
    "feature_size = 4\n",
    "cell_num_units = 64  # cell's hidden(output) size\n",
    "\n"
   ]
  },
  {
   "cell_type": "markdown",
   "metadata": {},
   "source": [
    "### Define a single cell\n",
    "For now, we just need to specify the size of cell's output which is num_units"
   ]
  },
  {
   "cell_type": "code",
   "execution_count": 20,
   "metadata": {},
   "outputs": [],
   "source": [
    "tf.reset_default_graph()\n",
    "input_x = tf.placeholder(shape=[batch_size, max_time_steps, feature_size], dtype=tf.float32)\n",
    "cell = tf.nn.rnn_cell.LSTMCell(num_units=cell_num_units, state_is_tuple=True)"
   ]
  },
  {
   "cell_type": "markdown",
   "metadata": {},
   "source": [
    "#### What does **state_is_tuple=True** mean\n",
    "\n",
    "It means the return cell's state will be a tuple like (memory_cell_state, output_cell_state)\n",
    "\n",
    "#### What are these states\n",
    "\n",
    "memory_cell_state: imagine it as a transfer belt that runs through all LSTM cells, carrying internal state information\n",
    "\n",
    "outout_cell_state: the output state of LSTM cell. it was calculated from memory_cell_state and input data to that LSTM cell\n",
    "\n",
    "#### What is the usage\n",
    "\n",
    "Typically, we can pass this tuple to another RNN flow as its initial states. It is a way for persistence. We will use this tuple in the following code\n",
    "\n"
   ]
  },
  {
   "cell_type": "code",
   "execution_count": null,
   "metadata": {},
   "outputs": [],
   "source": [
    "outputs, state = tf.nn.dynamic_rnn(cell=cell,\n",
    "                                   dtype=tf.float32,\n",
    "                                   time_major=False,\n",
    "                                   inputs=input_x)"
   ]
  },
  {
   "cell_type": "code",
   "execution_count": 3,
   "metadata": {},
   "outputs": [
    {
     "name": "stdout",
     "output_type": "stream",
     "text": [
      "Tensor(\"Cast_1:0\", shape=(), dtype=float32)\n"
     ]
    }
   ],
   "source": [
    "import tensorflow as tf\n",
    "print(tf.cast(512, tf.float32))"
   ]
  }
 ],
 "metadata": {
  "kernelspec": {
   "display_name": "Python 3",
   "language": "python",
   "name": "python3"
  },
  "language_info": {
   "codemirror_mode": {
    "name": "ipython",
    "version": 3
   },
   "file_extension": ".py",
   "mimetype": "text/x-python",
   "name": "python",
   "nbconvert_exporter": "python",
   "pygments_lexer": "ipython3",
   "version": "3.6.4"
  }
 },
 "nbformat": 4,
 "nbformat_minor": 2
}
